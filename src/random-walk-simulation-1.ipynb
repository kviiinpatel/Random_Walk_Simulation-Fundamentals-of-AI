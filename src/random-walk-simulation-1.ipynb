{
 "cells": [
  {
   "cell_type": "code",
   "execution_count": 2,
   "id": "871f1a5f",
   "metadata": {},
   "outputs": [],
   "source": [
    "import pandas as pd\n",
    "import numpy as np\n",
    "import matplotlib.pyplot as plt\n"
   ]
  },
  {
   "cell_type": "code",
   "execution_count": 3,
   "id": "e86351d6",
   "metadata": {
    "execution": {
     "iopub.execute_input": "2022-12-17T18:21:37.018863Z",
     "iopub.status.busy": "2022-12-17T18:21:37.017788Z",
     "iopub.status.idle": "2022-12-17T18:21:37.023578Z",
     "shell.execute_reply": "2022-12-17T18:21:37.022469Z"
    },
    "papermill": {
     "duration": 0.01442,
     "end_time": "2022-12-17T18:21:37.026085",
     "exception": false,
     "start_time": "2022-12-17T18:21:37.011665",
     "status": "completed"
    },
    "tags": []
   },
   "outputs": [],
   "source": [
    "#F,L,R\n",
    "prob = [0.98, 0.98 ,0.32, 0.54, 0.54]"
   ]
  },
  {
   "cell_type": "code",
   "execution_count": 4,
   "id": "bfbd74c8",
   "metadata": {
    "execution": {
     "iopub.execute_input": "2022-12-17T18:21:37.034593Z",
     "iopub.status.busy": "2022-12-17T18:21:37.033886Z",
     "iopub.status.idle": "2022-12-17T18:21:37.039205Z",
     "shell.execute_reply": "2022-12-17T18:21:37.038384Z"
    },
    "papermill": {
     "duration": 0.011987,
     "end_time": "2022-12-17T18:21:37.041463",
     "exception": false,
     "start_time": "2022-12-17T18:21:37.029476",
     "status": "completed"
    },
    "tags": []
   },
   "outputs": [],
   "source": [
    "RN = [6, 2, 0, 87, 8, 596, 7, 7, 9, 87, 4, 8, 2, 6, 2, 1, 3, 93, 87, 44]"
   ]
  },
  {
   "cell_type": "code",
   "execution_count": 5,
   "id": "abf9d881",
   "metadata": {
    "execution": {
     "iopub.execute_input": "2022-12-17T18:21:37.050264Z",
     "iopub.status.busy": "2022-12-17T18:21:37.049489Z",
     "iopub.status.idle": "2022-12-17T18:21:37.053993Z",
     "shell.execute_reply": "2022-12-17T18:21:37.053184Z"
    },
    "papermill": {
     "duration": 0.0112,
     "end_time": "2022-12-17T18:21:37.056112",
     "exception": false,
     "start_time": "2022-12-17T18:21:37.044912",
     "status": "completed"
    },
    "tags": []
   },
   "outputs": [],
   "source": [
    "x=[0]\n",
    "y=[0]"
   ]
  },
  {
   "cell_type": "code",
   "execution_count": 6,
   "id": "1c14285a",
   "metadata": {
    "execution": {
     "iopub.execute_input": "2022-12-17T18:21:37.065055Z",
     "iopub.status.busy": "2022-12-17T18:21:37.064157Z",
     "iopub.status.idle": "2022-12-17T18:21:37.069113Z",
     "shell.execute_reply": "2022-12-17T18:21:37.068301Z"
    },
    "papermill": {
     "duration": 0.011946,
     "end_time": "2022-12-17T18:21:37.071390",
     "exception": false,
     "start_time": "2022-12-17T18:21:37.059444",
     "status": "completed"
    },
    "tags": []
   },
   "outputs": [],
   "source": [
    "F = [0, 1, 2, 3, 4]\n",
    "L = [5, 6, 7]\n",
    "R = [8, 9]"
   ]
  },
  {
   "cell_type": "code",
   "execution_count": 7,
   "id": "42df61f5",
   "metadata": {
    "execution": {
     "iopub.execute_input": "2022-12-17T18:21:37.079937Z",
     "iopub.status.busy": "2022-12-17T18:21:37.079194Z",
     "iopub.status.idle": "2022-12-17T18:21:37.085739Z",
     "shell.execute_reply": "2022-12-17T18:21:37.084934Z"
    },
    "papermill": {
     "duration": 0.013506,
     "end_time": "2022-12-17T18:21:37.088087",
     "exception": false,
     "start_time": "2022-12-17T18:21:37.074581",
     "status": "completed"
    },
    "tags": []
   },
   "outputs": [],
   "source": [
    "for i in range(len(RN)):\n",
    "    if RN[i] in F:\n",
    "        x.extend([x[i]])\n",
    "        y.extend([y[i]+1])\n",
    "    elif RN[i] in R:\n",
    "        x.extend([x[i]+1])\n",
    "        y.extend([y[i]])\n",
    "    else:\n",
    "        x.extend([x[i]-1])\n",
    "        y.extend([y[i]])\n",
    "        \n",
    "    "
   ]
  },
  {
   "cell_type": "code",
   "execution_count": 8,
   "id": "5cb71d99",
   "metadata": {
    "execution": {
     "iopub.execute_input": "2022-12-17T18:21:37.096589Z",
     "iopub.status.busy": "2022-12-17T18:21:37.095869Z",
     "iopub.status.idle": "2022-12-17T18:21:37.105588Z",
     "shell.execute_reply": "2022-12-17T18:21:37.104338Z"
    },
    "papermill": {
     "duration": 0.016567,
     "end_time": "2022-12-17T18:21:37.107907",
     "exception": false,
     "start_time": "2022-12-17T18:21:37.091340",
     "status": "completed"
    },
    "tags": []
   },
   "outputs": [],
   "source": [
    "data={\"X Cor\":x , \"Y Cor\":y}\n",
    "df=pd.DataFrame(data=data)"
   ]
  },
  {
   "cell_type": "code",
   "execution_count": 9,
   "id": "66ea5ff7",
   "metadata": {
    "execution": {
     "iopub.execute_input": "2022-12-17T18:21:37.116543Z",
     "iopub.status.busy": "2022-12-17T18:21:37.115661Z",
     "iopub.status.idle": "2022-12-17T18:21:37.144124Z",
     "shell.execute_reply": "2022-12-17T18:21:37.143130Z"
    },
    "papermill": {
     "duration": 0.035445,
     "end_time": "2022-12-17T18:21:37.146721",
     "exception": false,
     "start_time": "2022-12-17T18:21:37.111276",
     "status": "completed"
    },
    "tags": []
   },
   "outputs": [
    {
     "data": {
      "text/html": [
       "<div>\n",
       "<style scoped>\n",
       "    .dataframe tbody tr th:only-of-type {\n",
       "        vertical-align: middle;\n",
       "    }\n",
       "\n",
       "    .dataframe tbody tr th {\n",
       "        vertical-align: top;\n",
       "    }\n",
       "\n",
       "    .dataframe thead th {\n",
       "        text-align: right;\n",
       "    }\n",
       "</style>\n",
       "<table border=\"1\" class=\"dataframe\">\n",
       "  <thead>\n",
       "    <tr style=\"text-align: right;\">\n",
       "      <th></th>\n",
       "      <th>X Cor</th>\n",
       "      <th>Y Cor</th>\n",
       "    </tr>\n",
       "  </thead>\n",
       "  <tbody>\n",
       "    <tr>\n",
       "      <th>0</th>\n",
       "      <td>0</td>\n",
       "      <td>0</td>\n",
       "    </tr>\n",
       "    <tr>\n",
       "      <th>1</th>\n",
       "      <td>-1</td>\n",
       "      <td>0</td>\n",
       "    </tr>\n",
       "    <tr>\n",
       "      <th>2</th>\n",
       "      <td>-1</td>\n",
       "      <td>1</td>\n",
       "    </tr>\n",
       "    <tr>\n",
       "      <th>3</th>\n",
       "      <td>-1</td>\n",
       "      <td>2</td>\n",
       "    </tr>\n",
       "    <tr>\n",
       "      <th>4</th>\n",
       "      <td>-2</td>\n",
       "      <td>2</td>\n",
       "    </tr>\n",
       "    <tr>\n",
       "      <th>5</th>\n",
       "      <td>-1</td>\n",
       "      <td>2</td>\n",
       "    </tr>\n",
       "    <tr>\n",
       "      <th>6</th>\n",
       "      <td>-2</td>\n",
       "      <td>2</td>\n",
       "    </tr>\n",
       "    <tr>\n",
       "      <th>7</th>\n",
       "      <td>-3</td>\n",
       "      <td>2</td>\n",
       "    </tr>\n",
       "    <tr>\n",
       "      <th>8</th>\n",
       "      <td>-4</td>\n",
       "      <td>2</td>\n",
       "    </tr>\n",
       "    <tr>\n",
       "      <th>9</th>\n",
       "      <td>-3</td>\n",
       "      <td>2</td>\n",
       "    </tr>\n",
       "    <tr>\n",
       "      <th>10</th>\n",
       "      <td>-4</td>\n",
       "      <td>2</td>\n",
       "    </tr>\n",
       "    <tr>\n",
       "      <th>11</th>\n",
       "      <td>-4</td>\n",
       "      <td>3</td>\n",
       "    </tr>\n",
       "    <tr>\n",
       "      <th>12</th>\n",
       "      <td>-3</td>\n",
       "      <td>3</td>\n",
       "    </tr>\n",
       "    <tr>\n",
       "      <th>13</th>\n",
       "      <td>-3</td>\n",
       "      <td>4</td>\n",
       "    </tr>\n",
       "    <tr>\n",
       "      <th>14</th>\n",
       "      <td>-4</td>\n",
       "      <td>4</td>\n",
       "    </tr>\n",
       "    <tr>\n",
       "      <th>15</th>\n",
       "      <td>-4</td>\n",
       "      <td>5</td>\n",
       "    </tr>\n",
       "    <tr>\n",
       "      <th>16</th>\n",
       "      <td>-4</td>\n",
       "      <td>6</td>\n",
       "    </tr>\n",
       "    <tr>\n",
       "      <th>17</th>\n",
       "      <td>-4</td>\n",
       "      <td>7</td>\n",
       "    </tr>\n",
       "    <tr>\n",
       "      <th>18</th>\n",
       "      <td>-5</td>\n",
       "      <td>7</td>\n",
       "    </tr>\n",
       "    <tr>\n",
       "      <th>19</th>\n",
       "      <td>-6</td>\n",
       "      <td>7</td>\n",
       "    </tr>\n",
       "    <tr>\n",
       "      <th>20</th>\n",
       "      <td>-7</td>\n",
       "      <td>7</td>\n",
       "    </tr>\n",
       "  </tbody>\n",
       "</table>\n",
       "</div>"
      ],
      "text/plain": [
       "    X Cor  Y Cor\n",
       "0       0      0\n",
       "1      -1      0\n",
       "2      -1      1\n",
       "3      -1      2\n",
       "4      -2      2\n",
       "5      -1      2\n",
       "6      -2      2\n",
       "7      -3      2\n",
       "8      -4      2\n",
       "9      -3      2\n",
       "10     -4      2\n",
       "11     -4      3\n",
       "12     -3      3\n",
       "13     -3      4\n",
       "14     -4      4\n",
       "15     -4      5\n",
       "16     -4      6\n",
       "17     -4      7\n",
       "18     -5      7\n",
       "19     -6      7\n",
       "20     -7      7"
      ]
     },
     "execution_count": 9,
     "metadata": {},
     "output_type": "execute_result"
    }
   ],
   "source": [
    "df"
   ]
  },
  {
   "cell_type": "code",
   "execution_count": 10,
   "id": "4037d26f",
   "metadata": {
    "execution": {
     "iopub.execute_input": "2022-12-17T18:21:37.156697Z",
     "iopub.status.busy": "2022-12-17T18:21:37.156177Z",
     "iopub.status.idle": "2022-12-17T18:21:37.402123Z",
     "shell.execute_reply": "2022-12-17T18:21:37.400804Z"
    },
    "papermill": {
     "duration": 0.255205,
     "end_time": "2022-12-17T18:21:37.406009",
     "exception": false,
     "start_time": "2022-12-17T18:21:37.150804",
     "status": "completed"
    },
    "tags": []
   },
   "outputs": [
    {
     "data": {
      "image/png": "[encoded data removed]",
      "text/plain": [
       "<Figure size 640x480 with 1 Axes>"
      ]
     },
     "metadata": {},
     "output_type": "display_data"
    }
   ],
   "source": [
    "plt.plot(x,y)\n",
    "plt.show()"
   ]
  },
  {
   "cell_type": "code",
   "execution_count": null,
   "id": "b9267bac",
   "metadata": {
    "papermill": {
     "duration": 0.004017,
     "end_time": "2022-12-17T18:21:37.414739",
     "exception": false,
     "start_time": "2022-12-17T18:21:37.410722",
     "status": "completed"
    },
    "tags": []
   },
   "outputs": [],
   "source": []
  }
 ],
 "metadata": {
  "kernelspec": {
   "display_name": "Python 3",
   "language": "python",
   "name": "python3"
  },
  "language_info": {
   "codemirror_mode": {
    "name": "ipython",
    "version": 3
   },
   "file_extension": ".py",
   "mimetype": "text/x-python",
   "name": "python",
   "nbconvert_exporter": "python",
   "pygments_lexer": "ipython3",
   "version": "3.12.7"
  },
  "papermill": {
   "default_parameters": {},
   "duration": 10.118761,
   "end_time": "2022-12-17T18:21:38.147453",
   "environment_variables": {},
   "exception": null,
   "input_path": "__notebook__.ipynb",
   "output_path": "__notebook__.ipynb",
   "parameters": {},
   "start_time": "2022-12-17T18:21:28.028692",
   "version": "2.3.4"
  }
 },
 "nbformat": 4,
 "nbformat_minor": 5
}
